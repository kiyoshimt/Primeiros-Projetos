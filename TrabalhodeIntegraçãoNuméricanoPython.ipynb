{
  "nbformat": 4,
  "nbformat_minor": 0,
  "metadata": {
    "colab": {
      "provenance": [],
      "authorship_tag": "ABX9TyOhrCkpbWfVhPRqOBfGss0u",
      "include_colab_link": true
    },
    "kernelspec": {
      "name": "python3",
      "display_name": "Python 3"
    },
    "language_info": {
      "name": "python"
    }
  },
  "cells": [
    {
      "cell_type": "markdown",
      "metadata": {
        "id": "view-in-github",
        "colab_type": "text"
      },
      "source": [
        "<a href=\"https://colab.research.google.com/github/kiyoshimt/Primeiros-Projetos/blob/main/TrabalhodeIntegra%C3%A7%C3%A3oNum%C3%A9ricanoPython.ipynb\" target=\"_parent\"><img src=\"https://colab.research.google.com/assets/colab-badge.svg\" alt=\"Open In Colab\"/></a>"
      ]
    },
    {
      "cell_type": "markdown",
      "source": [
        "REGRA DOS TRAPÉZIOS / PYTHON"
      ],
      "metadata": {
        "id": "ij4qkTwn5yDk"
      }
    },
    {
      "cell_type": "markdown",
      "source": [
        "integral de f(x)=e^(-x^2) em [1,3]"
      ],
      "metadata": {
        "id": "EnVgWjlTCAS2"
      }
    },
    {
      "cell_type": "code",
      "source": [
        "import math\n",
        "\n",
        "def trapz (f, a, b, n):\n",
        "  h= (b - a) / n\n",
        "  soma = 0\n",
        "  for k in range(1, n):\n",
        "    soma += f(a + k * h)\n",
        "  soma *=2\n",
        "  soma += (f(a) + f(b))\n",
        "\n",
        "  return (h/2) * soma\n",
        "\n",
        "\n",
        "\n",
        "def f(x):\n",
        "  return math.exp(-x ** 2)\n",
        "\n",
        "a, b = 1, 3\n",
        "\n",
        "n= 1000000\n",
        "\n",
        "r = trapz(f, a, b, n)\n",
        "print(r)\n"
      ],
      "metadata": {
        "colab": {
          "base_uri": "https://localhost:8080/"
        },
        "id": "fYq2_oaSB5y_",
        "outputId": "49f7961d-8bdd-4f48-fa46-4d4f42fb41ae"
      },
      "execution_count": 18,
      "outputs": [
        {
          "output_type": "stream",
          "name": "stdout",
          "text": [
            "0.13938321544734042\n"
          ]
        }
      ]
    },
    {
      "cell_type": "markdown",
      "source": [
        "integral de F(x)=cos(x^2) em [0,pi/2]\n"
      ],
      "metadata": {
        "id": "Ep80Aw9ACdCa"
      }
    },
    {
      "cell_type": "code",
      "source": [
        "import math\n",
        "\n",
        "def trapz (f, a, b, n):\n",
        "  h= (b - a) / n\n",
        "  soma = 0\n",
        "  for k in range(1, n):\n",
        "    soma += f(a + k * h)\n",
        "  soma *=2\n",
        "  soma += (f(a) + f(b))\n",
        "\n",
        "  return (h/2) * soma\n",
        "\n",
        "\n",
        "\n",
        "def f(x):\n",
        "  return math.exp(-x ** 2)\n",
        "\n",
        "a, b = 1, 3\n",
        "\n",
        "n= 1000000\n",
        "\n",
        "r = trapz(f, a, b, n)\n",
        "print('exp(-x^2)', r)\n",
        "\n",
        "def g(x):\n",
        "  return math.cos(x ** 2)\n",
        "\n",
        "a= 0\n",
        "b= math.pi / 2\n",
        "\n",
        "n=1000\n",
        "\n",
        "r= trapz(g, a, b, n)\n",
        "print ('cos(x^2)', r)"
      ],
      "metadata": {
        "colab": {
          "base_uri": "https://localhost:8080/"
        },
        "id": "1DM0ECyFCsWG",
        "outputId": "75a58485-5572-42f9-dcac-ef28948846bb"
      },
      "execution_count": 22,
      "outputs": [
        {
          "output_type": "stream",
          "name": "stdout",
          "text": [
            "exp(-x^2) 0.13938321544734042\n",
            "cos(x^2) 0.8491390472024476\n"
          ]
        }
      ]
    }
  ]
}