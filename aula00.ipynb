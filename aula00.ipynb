{
  "nbformat": 4,
  "nbformat_minor": 0,
  "metadata": {
    "colab": {
      "provenance": [],
      "include_colab_link": true
    },
    "kernelspec": {
      "name": "python3",
      "display_name": "Python 3"
    },
    "language_info": {
      "name": "python"
    }
  },
  "cells": [
    {
      "cell_type": "markdown",
      "metadata": {
        "id": "view-in-github",
        "colab_type": "text"
      },
      "source": [
        "<a href=\"https://colab.research.google.com/github/kiyoshimt/Primeiros-Projetos/blob/main/aula00.ipynb\" target=\"_parent\"><img src=\"https://colab.research.google.com/assets/colab-badge.svg\" alt=\"Open In Colab\"/></a>"
      ]
    },
    {
      "cell_type": "markdown",
      "source": [
        "# Estruturas Sequenciais\n",
        "## Variáveis e Constantes"
      ],
      "metadata": {
        "id": "zty3G1yMioaq"
      }
    },
    {
      "cell_type": "code",
      "source": [
        "a = 3\n",
        "b = 5\n",
        "print(\"A soma é \", a + b)\n",
        "b = 7\n",
        "c = a + b\n",
        "print(\"A nova soma é {0}. Pois a vale {1} e b vale {2}. Tatata {2}\".format(c, a, b))"
      ],
      "metadata": {
        "colab": {
          "base_uri": "https://localhost:8080/"
        },
        "id": "tLjvsBr2jC1g",
        "outputId": "c825baf7-106d-431b-8a59-429fa5e0ce63"
      },
      "execution_count": null,
      "outputs": [
        {
          "output_type": "stream",
          "name": "stdout",
          "text": [
            "A soma é  8\n",
            "A nova soma é 10. Pois a vale 3 e b vale 7. Tatata 7\n"
          ]
        }
      ]
    },
    {
      "cell_type": "markdown",
      "source": [
        "# Exercícios\n",
        "1) Faça um Programa que mostre a mensagem \"Alô, Mundo!\" na tela"
      ],
      "metadata": {
        "id": "oHI8QYHSnaOr"
      }
    },
    {
      "cell_type": "code",
      "source": [
        "print(\"Alô, Mundo!\")"
      ],
      "metadata": {
        "colab": {
          "base_uri": "https://localhost:8080/"
        },
        "id": "hjXPytcXn9Mp",
        "outputId": "fa303d97-3f7e-4f93-feb9-65af7b3c4478"
      },
      "execution_count": null,
      "outputs": [
        {
          "output_type": "stream",
          "name": "stdout",
          "text": [
            "Alô, Mundo!\n"
          ]
        }
      ]
    },
    {
      "cell_type": "markdown",
      "source": [
        "2) Faça um Programa que peça um número e então mostre a mensagem \"O número informado foi [número].\""
      ],
      "metadata": {
        "id": "_OkDgTl_oxVo"
      }
    },
    {
      "cell_type": "code",
      "source": [
        "numero = input(\"Digite um número:\")\n",
        "print(\"O número informado foi \", numero)"
      ],
      "metadata": {
        "colab": {
          "base_uri": "https://localhost:8080/"
        },
        "id": "z-Ji7zGPo_7O",
        "outputId": "8ec2cf64-bf80-4d32-b4dc-f07258fafd0f"
      },
      "execution_count": null,
      "outputs": [
        {
          "output_type": "stream",
          "name": "stdout",
          "text": [
            "Digite um número:42\n",
            "O número informado foi  42\n"
          ]
        }
      ]
    },
    {
      "cell_type": "markdown",
      "source": [
        "3 Faça um Programa que peça dois números e imprima a soma.\n"
      ],
      "metadata": {
        "id": "YKHwEWcOr8hx"
      }
    },
    {
      "cell_type": "code",
      "source": [
        "numero_1 = input(\"Digite o primeiro número:\")\n",
        "numero_2 = input(\"Digite o segundo número:\")\n",
        "print( int(numero_1) + int(numero_2))"
      ],
      "metadata": {
        "id": "4dKFzGJwsHSk"
      },
      "execution_count": null,
      "outputs": []
    },
    {
      "cell_type": "markdown",
      "source": [
        "4) Faça um Programa que peça as 4 notas bimestrais e mostre a média"
      ],
      "metadata": {
        "id": "OgHkt2HPv9mT"
      }
    },
    {
      "cell_type": "code",
      "source": [
        "n_1 = input(\"Digite a nota do 1º bimestre:\")\n",
        "n_2 = input(\"Digite a nota do 2º bimestre:\")\n",
        "n_3 = input(\"Digite a nota do 3º bimestre:\")\n",
        "n_4 = input(\"Digite a nota do 4º bimestre:\")\n",
        "print(\"A média é\", (float(n_1) + float(n_2) + float(n_3) + float(n_4))/4)"
      ],
      "metadata": {
        "id": "lx81rW-PwKzD",
        "colab": {
          "base_uri": "https://localhost:8080/"
        },
        "outputId": "622143f3-58de-463c-f34b-15597c8a9551"
      },
      "execution_count": null,
      "outputs": [
        {
          "output_type": "stream",
          "name": "stdout",
          "text": [
            "Digite a nota do 1º bimestre:9.5\n",
            "Digite a nota do 2º bimestre:7.5\n",
            "Digite a nota do 3º bimestre:6\n",
            "Digite a nota do 4º bimestre:8\n",
            "A média é 7.75\n"
          ]
        }
      ]
    },
    {
      "cell_type": "markdown",
      "source": [
        "5) Faça um Programa que converta metros para centímetros."
      ],
      "metadata": {
        "id": "8mLNqURx5PWA"
      }
    },
    {
      "cell_type": "code",
      "source": [
        "metros = input(\"Digite a medida em metros\")\n",
        "centimetros = float(metros) * 100\n",
        "print(\"{} m equivale a {:.2f} cm\".format(metros, centimetros))"
      ],
      "metadata": {
        "id": "jttKxp--5pCO"
      },
      "execution_count": null,
      "outputs": []
    },
    {
      "cell_type": "markdown",
      "source": [
        "6) Faça um Programa que peça o raio de um círculo, calcule e mostre sua área.\n"
      ],
      "metadata": {
        "id": "kuqWvfxE5qEH"
      }
    },
    {
      "cell_type": "code",
      "source": [
        "import math\n",
        "resposta = input(\"Digite a medida do raio: \")\n",
        "raio = float(resposta)\n",
        "area = math.pi * raio**2\n",
        "print(\"A área é {:.2f}\".format(area))"
      ],
      "metadata": {
        "id": "oCe-St7k52Ta"
      },
      "execution_count": null,
      "outputs": []
    },
    {
      "cell_type": "markdown",
      "source": [
        "7) Faça um Programa que calcule a área de um quadrado, em seguida mostre o dobro desta área para o usuário."
      ],
      "metadata": {
        "id": "DxMyFWym534N"
      }
    },
    {
      "cell_type": "code",
      "source": [
        "resp = input(\"Digite a medida do lado do quadrado:\")\n",
        "lado = float(resp)\n",
        "dobro = lado * lado**2\n",
        "print(\"O drobro da área é\", dobro)\n",
        "\n"
      ],
      "metadata": {
        "id": "A-K30Gz76IcX",
        "outputId": "6f0be5d6-acd1-4304-830c-8218ae95e6f3",
        "colab": {
          "base_uri": "https://localhost:8080/"
        }
      },
      "execution_count": 4,
      "outputs": [
        {
          "output_type": "stream",
          "name": "stdout",
          "text": [
            "Digite a medida do lado do quadrado:12\n",
            "O drobro da área é 1728.0\n"
          ]
        }
      ]
    }
  ]
}